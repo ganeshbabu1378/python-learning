{
 "cells": [
  {
   "cell_type": "code",
   "execution_count": 19,
   "metadata": {},
   "outputs": [
    {
     "name": "stdout",
     "output_type": "stream",
     "text": [
      "The Identified Number is 2519\n",
      "The Identified Number is 5039\n",
      "The Identified Number is 7559\n",
      "The Identified Number is 10079\n",
      "The Identified Number is 12599\n",
      "The Identified Number is 15119\n",
      "The Identified Number is 17639\n",
      "The Identified Number is 20159\n",
      "The Identified Number is 22679\n",
      "The Identified Number is 25199\n",
      "The Identified Number is 27719\n",
      "The Identified Number is 30239\n",
      "The Identified Number is 32759\n",
      "The Identified Number is 35279\n",
      "The Identified Number is 37799\n",
      "The Identified Number is 40319\n",
      "The Identified Number is 42839\n",
      "The Identified Number is 45359\n",
      "The Identified Number is 47879\n",
      "The Identified Number is 50399\n",
      "The Identified Number is 52919\n",
      "The Identified Number is 55439\n",
      "The Identified Number is 57959\n",
      "The Identified Number is 60479\n",
      "The Identified Number is 62999\n",
      "The Identified Number is 65519\n",
      "The Identified Number is 68039\n",
      "The Identified Number is 70559\n",
      "The Identified Number is 73079\n",
      "The Identified Number is 75599\n",
      "The Identified Number is 78119\n",
      "The Identified Number is 80639\n",
      "The Identified Number is 83159\n",
      "The Identified Number is 85679\n",
      "The Identified Number is 88199\n",
      "The Identified Number is 90719\n",
      "The Identified Number is 93239\n",
      "The Identified Number is 95759\n",
      "The Identified Number is 98279\n"
     ]
    }
   ],
   "source": [
    "n = 1\n",
    "N = 0 \n",
    "while ( n < 100000 ):\n",
    "    for x in range(2,10) :\n",
    "        if n % x == x-1:\n",
    "            if x == 9 :\n",
    "                print ( \"The Identified Number is \" +str( n) )\n",
    "                n += 1\n",
    "                break\n",
    "        else:\n",
    "            n += 1\n",
    "            break\n"
   ]
  },
  {
   "cell_type": "code",
   "execution_count": null,
   "metadata": {},
   "outputs": [],
   "source": []
  }
 ],
 "metadata": {
  "kernelspec": {
   "display_name": "Python 3",
   "language": "python",
   "name": "python3"
  },
  "language_info": {
   "codemirror_mode": {
    "name": "ipython",
    "version": 3
   },
   "file_extension": ".py",
   "mimetype": "text/x-python",
   "name": "python",
   "nbconvert_exporter": "python",
   "pygments_lexer": "ipython3",
   "version": "3.7.6"
  }
 },
 "nbformat": 4,
 "nbformat_minor": 4
}
