{
 "cells": [
  {
   "cell_type": "code",
   "execution_count": 182,
   "metadata": {},
   "outputs": [],
   "source": [
    "import bs4\n",
    "import requests\n",
    "from datetime import datetime"
   ]
  },
  {
   "cell_type": "code",
   "execution_count": 183,
   "metadata": {},
   "outputs": [],
   "source": [
    "website_url = 'https://www.wclc.com/winning-numbers/lotto-max-extra.htm'\n",
    "result = requests.get(website_url)\n",
    "soup = bs4.BeautifulSoup ( result.text, \"lxml\")"
   ]
  },
  {
   "cell_type": "code",
   "execution_count": 184,
   "metadata": {},
   "outputs": [],
   "source": [
    "contents = soup.select('.pastWinNum')"
   ]
  },
  {
   "cell_type": "code",
   "execution_count": 188,
   "metadata": {},
   "outputs": [],
   "source": [
    "f = open('C:\\\\Users\\\\Ganesh Babu\\\\GitHub-workspace\\\\python-learning\\\\Lotto_max.csv' , 'w+')\n",
    "\n",
    "f.write('Date,Type,W1,W2,W3,W4,W5,W6,W7,BONUS')\n",
    "f.write('\\n')\n",
    "\n",
    "for item in contents:\n",
    "    c_date = item.select('.pastWinNumDate h4')[0].getText().strip()\n",
    "    c_date_str = datetime.strptime(c_date, '%A, %B %d, %Y').date().strftime('%Y-%m-%d')\n",
    "    c_win_numbers_array = item.select('.pastWinNumbers .pastWinNumber')\n",
    "    f.write(c_date_str)\n",
    "    f.write(',LottoMax,')\n",
    "    for num in c_win_numbers_array:\n",
    "        f.write(num.getText())\n",
    "        f.write(',')\n",
    "    \n",
    "    \n",
    "    c_win_numbers_bonus = item.select('.pastWinNumbers .pastWinNumberBonus')[0]\n",
    "    f.write( c_win_numbers_bonus.getText().replace('Bonus',''))\n",
    "    f.write('\\n')\n",
    "\n",
    "    # MAX MILLIONS\n",
    "    c_max_mill = item.select('.pastWinNumMaxmillions.pastWinNumGroupDivider')\n",
    "\n",
    "    for mm in c_max_mill:\n",
    "        \n",
    "        if str(mm).find('pastWinNumMMNo') != -1 : # No MAx Millions on this date\n",
    "            f.write(c_date_str)\n",
    "            f.write(',')\n",
    "            f.write('Max Millions')\n",
    "            f.write(',NA,NA,NA,NA,NA,NA,NA')\n",
    "            f.write('\\n')\n",
    "        else:\n",
    "            mm_list = mm.select('.pastWinNumMMGroup .pastWinNumbers')\n",
    "            for mm_list1 in mm_list:\n",
    "                f.write(c_date_str)\n",
    "                f.write(',')\n",
    "                f.write('Max Millions')\n",
    "                for mm_list2 in mm_list1.select('.pastWinNumMM') :\n",
    "                    f.write(',')\n",
    "                    f.write(mm_list2.getText())\n",
    "                f.write(',NA')\n",
    "                f.write('\\n')\n",
    "                \n",
    "            \n",
    "            \n",
    "    \n",
    "    \n",
    "f.close()"
   ]
  },
  {
   "cell_type": "code",
   "execution_count": null,
   "metadata": {},
   "outputs": [],
   "source": []
  }
 ],
 "metadata": {
  "kernelspec": {
   "display_name": "Python 3",
   "language": "python",
   "name": "python3"
  },
  "language_info": {
   "codemirror_mode": {
    "name": "ipython",
    "version": 3
   },
   "file_extension": ".py",
   "mimetype": "text/x-python",
   "name": "python",
   "nbconvert_exporter": "python",
   "pygments_lexer": "ipython3",
   "version": "3.7.6"
  }
 },
 "nbformat": 4,
 "nbformat_minor": 4
}
