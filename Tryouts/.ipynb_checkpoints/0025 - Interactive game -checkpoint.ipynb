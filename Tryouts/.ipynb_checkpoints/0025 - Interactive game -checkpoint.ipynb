{
 "cells": [
  {
   "cell_type": "code",
   "execution_count": 1,
   "metadata": {},
   "outputs": [],
   "source": [
    "# function to display visual representation of tic tac toe board to user\n",
    "def display ( r1 , r2 , r3 ):\n",
    "    print(r1)\n",
    "    print(r2)\n",
    "    print(r3)"
   ]
  },
  {
   "cell_type": "code",
   "execution_count": 11,
   "metadata": {},
   "outputs": [],
   "source": [
    "# accept user input\n",
    "def get_user_input ( possible_rows , possible_cols ):\n",
    "    get_row = True\n",
    "    get_column = True\n",
    "    \n",
    "    # get row number\n",
    "    while get_row :\n",
    "        sel_row = int(input ( f'Choose a row position {possible_rows}    :    ' ) )\n",
    "        if sel_row in possible_rows :\n",
    "            get_row = False\n",
    "            break\n",
    "        else:\n",
    "            print('sorry that is not a valid input! please try again')\n",
    "    \n",
    "    # get column number\n",
    "    while get_column :\n",
    "        sel_col = int(input ( f'Choose a Column position {possible_columns}    :    ' ) )\n",
    "        if sel_col in possible_cols :\n",
    "            get_col = False\n",
    "            break\n",
    "        else:\n",
    "            print('sorry that is not a valid input! please try again')\n",
    "            "
   ]
  },
  {
   "cell_type": "code",
   "execution_count": 12,
   "metadata": {},
   "outputs": [
    {
     "name": "stdout",
     "output_type": "stream",
     "text": [
      "Choose a row position [0, 1]    :    1\n",
      "Choose a Column position ( 1 , 2 , 3 )    :    1\n"
     ]
    }
   ],
   "source": [
    "get_user_input([0,1],[1,2,3])\n"
   ]
  },
  {
   "cell_type": "code",
   "execution_count": null,
   "metadata": {},
   "outputs": [],
   "source": []
  }
 ],
 "metadata": {
  "kernelspec": {
   "display_name": "Python 3",
   "language": "python",
   "name": "python3"
  },
  "language_info": {
   "codemirror_mode": {
    "name": "ipython",
    "version": 3
   },
   "file_extension": ".py",
   "mimetype": "text/x-python",
   "name": "python",
   "nbconvert_exporter": "python",
   "pygments_lexer": "ipython3",
   "version": "3.7.6"
  }
 },
 "nbformat": 4,
 "nbformat_minor": 4
}
