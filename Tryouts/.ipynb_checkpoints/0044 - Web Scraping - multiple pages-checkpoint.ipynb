{
 "cells": [
  {
   "cell_type": "code",
   "execution_count": 1,
   "metadata": {},
   "outputs": [],
   "source": [
    "import requests\n",
    "import bs4"
   ]
  },
  {
   "cell_type": "code",
   "execution_count": 35,
   "metadata": {},
   "outputs": [],
   "source": [
    "# toscrape.com\n",
    "# GOAL : GET TITLE OF EVERY BOOK WHICH HAS TWO STAR RATING\n",
    "\n",
    "base_web_url = 'http://books.toscrape.com/catalogue/page-{}.html'\n",
    "page_counter = 0\n",
    "book_list_two_star = []\n",
    "\n",
    "\n",
    "while True:\n",
    "    page_counter += 1\n",
    "    curr_page = requests.get(base_web_url.format(page_counter))\n",
    "    if curr_page.status_code != 404:\n",
    "        curr_soup = bs4.BeautifulSoup(curr_page.text , 'lxml')\n",
    "        book_cont = curr_soup.select('.product_pod')\n",
    "        for book in book_cont:\n",
    "            if len( book.select('.star-rating.Two') ) != 0:\n",
    "                book_list_two_star.append(book.select('a')[1]['title'])\n",
    "            else:\n",
    "                pass\n",
    "    else:\n",
    "        break\n"
   ]
  },
  {
   "cell_type": "code",
   "execution_count": 36,
   "metadata": {},
   "outputs": [
    {
     "data": {
      "text/plain": [
       "196"
      ]
     },
     "execution_count": 36,
     "metadata": {},
     "output_type": "execute_result"
    }
   ],
   "source": [
    "len(book_list_two_star)"
   ]
  },
  {
   "cell_type": "code",
   "execution_count": null,
   "metadata": {},
   "outputs": [],
   "source": []
  }
 ],
 "metadata": {
  "kernelspec": {
   "display_name": "Python 3",
   "language": "python",
   "name": "python3"
  },
  "language_info": {
   "codemirror_mode": {
    "name": "ipython",
    "version": 3
   },
   "file_extension": ".py",
   "mimetype": "text/x-python",
   "name": "python",
   "nbconvert_exporter": "python",
   "pygments_lexer": "ipython3",
   "version": "3.7.6"
  }
 },
 "nbformat": 4,
 "nbformat_minor": 4
}
