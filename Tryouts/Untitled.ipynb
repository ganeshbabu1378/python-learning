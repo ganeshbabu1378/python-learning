{
 "cells": [
  {
   "cell_type": "code",
   "execution_count": 2,
   "metadata": {},
   "outputs": [],
   "source": [
    "import random"
   ]
  },
  {
   "cell_type": "code",
   "execution_count": 6,
   "metadata": {},
   "outputs": [],
   "source": [
    "# find successfull seeds\n",
    "winning_sample = ( 9 , 21 , 26 , 28 , 30 , 37 , 44 )\n",
    "for i in range ( 1000000 ):\n",
    "    random.seed ( i )\n",
    "    seed_sample = random.sample(range( 1 , 50) , 7 )\n",
    "    seed_sample.sort()\n",
    "    seed_sample = tuple(seed_sample)\n",
    "    if ( winning_sample == seed_sample):\n",
    "        print(\"successful SEED : \" + str(i))"
   ]
  },
  {
   "cell_type": "code",
   "execution_count": null,
   "metadata": {},
   "outputs": [],
   "source": [
    "\n"
   ]
  }
 ],
 "metadata": {
  "kernelspec": {
   "display_name": "Python 3",
   "language": "python",
   "name": "python3"
  },
  "language_info": {
   "codemirror_mode": {
    "name": "ipython",
    "version": 3
   },
   "file_extension": ".py",
   "mimetype": "text/x-python",
   "name": "python",
   "nbconvert_exporter": "python",
   "pygments_lexer": "ipython3",
   "version": "3.7.6"
  }
 },
 "nbformat": 4,
 "nbformat_minor": 4
}
