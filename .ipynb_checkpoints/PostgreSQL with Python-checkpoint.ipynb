{
 "cells": [
  {
   "cell_type": "code",
   "execution_count": 1,
   "metadata": {},
   "outputs": [],
   "source": [
    "import psycopg2 as pg2\n"
   ]
  },
  {
   "cell_type": "code",
   "execution_count": 2,
   "metadata": {},
   "outputs": [],
   "source": [
    "secret = 'Welcome123'\n",
    "conn = pg2.connect ( database = 'dvdrental' , user = 'postgres', password = secret)"
   ]
  },
  {
   "cell_type": "code",
   "execution_count": 3,
   "metadata": {},
   "outputs": [],
   "source": [
    "cur = conn.cursor()"
   ]
  },
  {
   "cell_type": "code",
   "execution_count": 7,
   "metadata": {},
   "outputs": [],
   "source": [
    "cur.execute('SELECT * FROM customer')"
   ]
  },
  {
   "cell_type": "code",
   "execution_count": 8,
   "metadata": {},
   "outputs": [
    {
     "data": {
      "text/plain": [
       "[(524,\n",
       "  1,\n",
       "  'Jared',\n",
       "  'Ely',\n",
       "  'jared.ely@sakilacustomer.org',\n",
       "  530,\n",
       "  True,\n",
       "  datetime.date(2006, 2, 14),\n",
       "  datetime.datetime(2013, 5, 26, 14, 49, 45, 738000),\n",
       "  1),\n",
       " (1,\n",
       "  1,\n",
       "  'Mary',\n",
       "  'Smith',\n",
       "  'mary.smith@sakilacustomer.org',\n",
       "  5,\n",
       "  True,\n",
       "  datetime.date(2006, 2, 14),\n",
       "  datetime.datetime(2013, 5, 26, 14, 49, 45, 738000),\n",
       "  1),\n",
       " (2,\n",
       "  1,\n",
       "  'Patricia',\n",
       "  'Johnson',\n",
       "  'patricia.johnson@sakilacustomer.org',\n",
       "  6,\n",
       "  True,\n",
       "  datetime.date(2006, 2, 14),\n",
       "  datetime.datetime(2013, 5, 26, 14, 49, 45, 738000),\n",
       "  1),\n",
       " (3,\n",
       "  1,\n",
       "  'Linda',\n",
       "  'Williams',\n",
       "  'linda.williams@sakilacustomer.org',\n",
       "  7,\n",
       "  True,\n",
       "  datetime.date(2006, 2, 14),\n",
       "  datetime.datetime(2013, 5, 26, 14, 49, 45, 738000),\n",
       "  1),\n",
       " (4,\n",
       "  2,\n",
       "  'Barbara',\n",
       "  'Jones',\n",
       "  'barbara.jones@sakilacustomer.org',\n",
       "  8,\n",
       "  True,\n",
       "  datetime.date(2006, 2, 14),\n",
       "  datetime.datetime(2013, 5, 26, 14, 49, 45, 738000),\n",
       "  1),\n",
       " (5,\n",
       "  1,\n",
       "  'Elizabeth',\n",
       "  'Brown',\n",
       "  'elizabeth.brown@sakilacustomer.org',\n",
       "  9,\n",
       "  True,\n",
       "  datetime.date(2006, 2, 14),\n",
       "  datetime.datetime(2013, 5, 26, 14, 49, 45, 738000),\n",
       "  1),\n",
       " (6,\n",
       "  2,\n",
       "  'Jennifer',\n",
       "  'Davis',\n",
       "  'jennifer.davis@sakilacustomer.org',\n",
       "  10,\n",
       "  True,\n",
       "  datetime.date(2006, 2, 14),\n",
       "  datetime.datetime(2013, 5, 26, 14, 49, 45, 738000),\n",
       "  1),\n",
       " (7,\n",
       "  1,\n",
       "  'Maria',\n",
       "  'Miller',\n",
       "  'maria.miller@sakilacustomer.org',\n",
       "  11,\n",
       "  True,\n",
       "  datetime.date(2006, 2, 14),\n",
       "  datetime.datetime(2013, 5, 26, 14, 49, 45, 738000),\n",
       "  1),\n",
       " (8,\n",
       "  2,\n",
       "  'Susan',\n",
       "  'Wilson',\n",
       "  'susan.wilson@sakilacustomer.org',\n",
       "  12,\n",
       "  True,\n",
       "  datetime.date(2006, 2, 14),\n",
       "  datetime.datetime(2013, 5, 26, 14, 49, 45, 738000),\n",
       "  1),\n",
       " (9,\n",
       "  2,\n",
       "  'Margaret',\n",
       "  'Moore',\n",
       "  'margaret.moore@sakilacustomer.org',\n",
       "  13,\n",
       "  True,\n",
       "  datetime.date(2006, 2, 14),\n",
       "  datetime.datetime(2013, 5, 26, 14, 49, 45, 738000),\n",
       "  1)]"
      ]
     },
     "execution_count": 8,
     "metadata": {},
     "output_type": "execute_result"
    }
   ],
   "source": [
    "cur.fetchmany(10)"
   ]
  },
  {
   "cell_type": "code",
   "execution_count": 9,
   "metadata": {},
   "outputs": [],
   "source": [
    "conn.close()"
   ]
  },
  {
   "cell_type": "code",
   "execution_count": null,
   "metadata": {},
   "outputs": [],
   "source": []
  }
 ],
 "metadata": {
  "kernelspec": {
   "display_name": "Python 3",
   "language": "python",
   "name": "python3"
  },
  "language_info": {
   "codemirror_mode": {
    "name": "ipython",
    "version": 3
   },
   "file_extension": ".py",
   "mimetype": "text/x-python",
   "name": "python",
   "nbconvert_exporter": "python",
   "pygments_lexer": "ipython3",
   "version": "3.7.6"
  }
 },
 "nbformat": 4,
 "nbformat_minor": 4
}
