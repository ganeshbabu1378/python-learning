{
 "cells": [
  {
   "cell_type": "code",
   "execution_count": 12,
   "metadata": {},
   "outputs": [],
   "source": [
    "import bs4\n",
    "import requests\n",
    "import json\n",
    "import xlsxwriter"
   ]
  },
  {
   "cell_type": "code",
   "execution_count": 29,
   "metadata": {},
   "outputs": [],
   "source": [
    "website_url = \"https://www.lotterytracker.ca/api/winningNumbers?day=4&month=6&year=2021&format=json\"\n",
    "result = requests.get(website_url)"
   ]
  },
  {
   "cell_type": "code",
   "execution_count": 36,
   "metadata": {},
   "outputs": [
    {
     "name": "stdout",
     "output_type": "stream",
     "text": [
      "{'ID': 597637, 'DrawId': 128943, 'Draw': {'ID': 128943, 'Game': {'ID': 2, 'Name': 'Lotto Max', 'Code': 'LOTTO MAX', 'Active': True, 'Creatable': True, 'OtherPlayBoardGame': None}, 'Day': 4, 'Month': 6, 'Year': 2021, 'ResultsReceived': True, 'FormattedDate': 'Fri Jun 04, 2021'}, 'Regular': '02,03,16,28,31,42,47', 'Bonus': '12', 'BonusDraws': '01,02,03,13,18,42,50:01,19,25,27,30,31,48:02,06,14,25,26,29,47:02,07,14,26,28,40,41:02,08,19,21,26,41,46:02,09,17,26,32,45,47:02,11,14,30,31,37,42:02,14,15,26,27,34,36:02,14,33,34,35,40,47:03,04,06,11,16,22,37:03,06,18,23,39,44,50:03,10,12,14,15,39,42:03,11,12,19,37,42,48:04,06,21,22,24,40,43:04,08,15,16,25,40,49:04,11,16,26,39,46,48:04,28,30,33,38,46,50:05,07,15,23,25,43,50:05,08,10,12,32,45,46:05,09,13,14,29,34,50:05,09,17,20,25,26,30:05,11,27,31,42,45,49:05,18,28,31,34,36,50:06,07,10,28,34,35,38:06,17,29,35,37,42,46:08,10,15,16,31,36,38:08,10,24,26,31,40,43:09,17,22,35,40,47,49:10,11,14,15,37,38,45:11,15,28,33,42,48,49:17,21,28,30,32,37,38:18,20,21,38,42,44,48:19,23,29,34,37,38,48', 'GuaranteedWinning': None, 'SuperDraw': None, 'Encore': '2314892', 'LastUpdatedDate': '2021-06-08T07:37:07.017', 'Jackpot': 70000000, 'NextDrawDate': '2021-06-08T00:00:00', 'FormattedNextDrawDate': 'Tue Jun 08, 2021'}\n"
     ]
    }
   ],
   "source": [
    "\n",
    "json_data = json.loads(result.text)\n",
    "workbook = xlsxwriter.Workbook('hello.xlsx')\n",
    "\n",
    "\n",
    "for item in json_data:\n",
    "    if item['Draw']['Game']['Code'] == 'LOTTO MAX':\n",
    "        print(item)"
   ]
  },
  {
   "cell_type": "code",
   "execution_count": null,
   "metadata": {},
   "outputs": [],
   "source": []
  }
 ],
 "metadata": {
  "kernelspec": {
   "display_name": "Python 3",
   "language": "python",
   "name": "python3"
  },
  "language_info": {
   "codemirror_mode": {
    "name": "ipython",
    "version": 3
   },
   "file_extension": ".py",
   "mimetype": "text/x-python",
   "name": "python",
   "nbconvert_exporter": "python",
   "pygments_lexer": "ipython3",
   "version": "3.7.6"
  }
 },
 "nbformat": 4,
 "nbformat_minor": 4
}
